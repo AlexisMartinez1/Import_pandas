{
 "cells": [
  {
   "cell_type": "markdown",
   "id": "b2e49248",
   "metadata": {},
   "source": [
    "# Arays #"
   ]
  },
  {
   "cell_type": "markdown",
   "id": "e69e6a6d",
   "metadata": {},
   "source": []
  },
  {
   "cell_type": "markdown",
   "id": "697cbfb7",
   "metadata": {},
   "source": [
    "* porpociona arrays N-Dimencionales \n",
    "* Implementa funciones matematicas sofisticadas\n",
    "* Proporciona herramientas para integrar c/c++ fortan\n",
    "* Proporciona macanismos para facilitar la realizacion de tareas relacionadas von algebra lineal o numeros aletorios."
   ]
  },
  {
   "cell_type": "markdown",
   "id": "aa7a7552",
   "metadata": {},
   "source": []
  },
  {
   "cell_type": "code",
   "execution_count": 1,
   "id": "37284dbe",
   "metadata": {},
   "outputs": [],
   "source": [
    "import numpy as np "
   ]
  },
  {
   "cell_type": "markdown",
   "id": "d3ca9cd1",
   "metadata": {},
   "source": [
    "## Arrays \n",
    "un **array** es una estructura bque conciste en una coleccción d e elementos (valores o variables ), cada identificado por lo menos un indice o clave . un array se almacena "
   ]
  },
  {
   "cell_type": "markdown",
   "id": "9bbed377",
   "metadata": {},
   "source": [
    "En numpy:\n",
    "* Cada dimension de denomina **axis**\n",
    "* La lista de dimensiones con su correspondientre longitud se denomina **rank**\n",
    "* El numero total de elementos (multiplicación)"
   ]
  },
  {
   "cell_type": "code",
   "execution_count": 2,
   "id": "c4535cef",
   "metadata": {},
   "outputs": [],
   "source": [
    "# Array cuyos valores son 0\n",
    "a =np.zeros((2 , 4 ))"
   ]
  },
  {
   "cell_type": "code",
   "execution_count": 3,
   "id": "70f85409",
   "metadata": {},
   "outputs": [
    {
     "data": {
      "text/plain": [
       "array([[0., 0., 0., 0.],\n",
       "       [0., 0., 0., 0.]])"
      ]
     },
     "execution_count": 3,
     "metadata": {},
     "output_type": "execute_result"
    }
   ],
   "source": [
    "a"
   ]
  },
  {
   "cell_type": "markdown",
   "id": "0c33afae",
   "metadata": {},
   "source": [
    "**A** es un array :\n",
    "* Con dos **axis**, la primera de longitud con longitud 4.\n",
    "* Con un **rang**, igual a 2.\n",
    "* Con un **shape** igual a (2, 4)\n",
    "* Con un **size** igual 8"
   ]
  },
  {
   "cell_type": "code",
   "execution_count": 4,
   "id": "243b7c08",
   "metadata": {},
   "outputs": [
    {
     "data": {
      "text/plain": [
       "(2, 4)"
      ]
     },
     "execution_count": 4,
     "metadata": {},
     "output_type": "execute_result"
    }
   ],
   "source": [
    "a.shape"
   ]
  },
  {
   "cell_type": "code",
   "execution_count": 5,
   "id": "b63e7a7e",
   "metadata": {},
   "outputs": [
    {
     "data": {
      "text/plain": [
       "2"
      ]
     },
     "execution_count": 5,
     "metadata": {},
     "output_type": "execute_result"
    }
   ],
   "source": [
    "a.ndim"
   ]
  },
  {
   "cell_type": "code",
   "execution_count": 6,
   "id": "cab7a55c",
   "metadata": {},
   "outputs": [
    {
     "data": {
      "text/plain": [
       "8"
      ]
     },
     "execution_count": 6,
     "metadata": {},
     "output_type": "execute_result"
    }
   ],
   "source": [
    "a.size"
   ]
  },
  {
   "cell_type": "markdown",
   "id": "870a915a",
   "metadata": {},
   "source": [
    "## Creacion de arrays"
   ]
  },
  {
   "cell_type": "code",
   "execution_count": 7,
   "id": "58a59ead",
   "metadata": {},
   "outputs": [
    {
     "data": {
      "text/plain": [
       "array([[[0., 0., 0., 0.],\n",
       "        [0., 0., 0., 0.],\n",
       "        [0., 0., 0., 0.]],\n",
       "\n",
       "       [[0., 0., 0., 0.],\n",
       "        [0., 0., 0., 0.],\n",
       "        [0., 0., 0., 0.]]])"
      ]
     },
     "execution_count": 7,
     "metadata": {},
     "output_type": "execute_result"
    }
   ],
   "source": [
    "# Arrays cuyos valores son todos 0\n",
    "np.zeros((2, 3, 4))#dimención , columnas )"
   ]
  },
  {
   "cell_type": "code",
   "execution_count": 8,
   "id": "8787f2d5",
   "metadata": {},
   "outputs": [
    {
     "data": {
      "text/plain": [
       "array([[[1., 1., 1., 1.],\n",
       "        [1., 1., 1., 1.],\n",
       "        [1., 1., 1., 1.]],\n",
       "\n",
       "       [[1., 1., 1., 1.],\n",
       "        [1., 1., 1., 1.],\n",
       "        [1., 1., 1., 1.]]])"
      ]
     },
     "execution_count": 8,
     "metadata": {},
     "output_type": "execute_result"
    }
   ],
   "source": [
    "# Arrays cuyos valores son todos unos 1\n",
    "np.ones((2, 3, 4))"
   ]
  },
  {
   "cell_type": "code",
   "execution_count": 9,
   "id": "91fdb163",
   "metadata": {},
   "outputs": [
    {
     "data": {
      "text/plain": [
       "array([[[8, 8, 8, 8],\n",
       "        [8, 8, 8, 8],\n",
       "        [8, 8, 8, 8]],\n",
       "\n",
       "       [[8, 8, 8, 8],\n",
       "        [8, 8, 8, 8],\n",
       "        [8, 8, 8, 8]]])"
      ]
     },
     "execution_count": 9,
     "metadata": {},
     "output_type": "execute_result"
    }
   ],
   "source": [
    "# Arrays  cuyos valores son todos el valor indicado \n",
    "# Segundo parameto de la función\n",
    "np.full((2 ,3 ,4), 8)"
   ]
  },
  {
   "cell_type": "code",
   "execution_count": 10,
   "id": "b3778456",
   "metadata": {},
   "outputs": [
    {
     "data": {
      "text/plain": [
       "array([[[1., 1., 1., 1.],\n",
       "        [1., 1., 1., 1.],\n",
       "        [1., 1., 1., 1.]],\n",
       "\n",
       "       [[1., 1., 1., 1.],\n",
       "        [1., 1., 1., 1.],\n",
       "        [1., 1., 1., 1.]]])"
      ]
     },
     "execution_count": 10,
     "metadata": {},
     "output_type": "execute_result"
    }
   ],
   "source": [
    "# El resultadode np.empty no es predecibles \n",
    "# Inicializada con los valores con lo que hay en memoria en ese momento\n",
    "np.empty((2, 3, 4))"
   ]
  },
  {
   "cell_type": "code",
   "execution_count": 11,
   "id": "11908d8a",
   "metadata": {},
   "outputs": [
    {
     "data": {
      "text/plain": [
       "array([[1, 2, 3],\n",
       "       [4, 5, 6]])"
      ]
     },
     "execution_count": 11,
     "metadata": {},
     "output_type": "execute_result"
    }
   ],
   "source": [
    "# Inicializar un array con un arraay de p\n",
    "b= np.array (([1, 2, 3],[4, 5, 6]))\n",
    "b"
   ]
  },
  {
   "cell_type": "code",
   "execution_count": 12,
   "id": "adacbce9",
   "metadata": {},
   "outputs": [
    {
     "data": {
      "text/plain": [
       "(2, 3)"
      ]
     },
     "execution_count": 12,
     "metadata": {},
     "output_type": "execute_result"
    }
   ],
   "source": [
    "b.shape"
   ]
  },
  {
   "cell_type": "code",
   "execution_count": 13,
   "id": "dd8067bf",
   "metadata": {},
   "outputs": [
    {
     "name": "stdout",
     "output_type": "stream",
     "text": [
      "[8.         7.77777778 7.55555556 7.33333333 7.11111111 6.88888889\n",
      " 6.66666667 6.44444444 6.22222222 6.        ]\n"
     ]
    }
   ],
   "source": [
    "# Crear un array usando función basada en rangos \n",
    "#(min, max, núm de elementos)\n",
    "print(np.linspace(8, 6, 10))"
   ]
  },
  {
   "cell_type": "code",
   "execution_count": 14,
   "id": "b4d6ebea",
   "metadata": {},
   "outputs": [
    {
     "data": {
      "text/plain": [
       "array([[[0.08882614, 0.74331576, 0.21653361, 0.31493859],\n",
       "        [0.15881631, 0.66663268, 0.95980317, 0.32909549],\n",
       "        [0.0093245 , 0.96583816, 0.40120727, 0.25896657]],\n",
       "\n",
       "       [[0.80284249, 0.34955347, 0.85997458, 0.45290717],\n",
       "        [0.20868298, 0.95123197, 0.27957331, 0.36921903],\n",
       "        [0.78683434, 0.92443009, 0.24455635, 0.37801924]]])"
      ]
     },
     "execution_count": 14,
     "metadata": {},
     "output_type": "execute_result"
    }
   ],
   "source": [
    "# Inicializar un array con valores aletorias \n",
    "np.random.rand(2, 3, 4)"
   ]
  },
  {
   "cell_type": "code",
   "execution_count": 15,
   "id": "b0cd57b5",
   "metadata": {},
   "outputs": [
    {
     "data": {
      "text/plain": [
       "array([[0.24657732, 0.69279628, 0.82789226, 0.96522725],\n",
       "       [0.37635324, 0.85865602, 0.19518266, 0.4846684 ]])"
      ]
     },
     "execution_count": 15,
     "metadata": {},
     "output_type": "execute_result"
    }
   ],
   "source": [
    "# Inicilizar a un array con valores aletorios conforme a una \n",
    "# Distribución \n",
    "np.random.rand(2, 4)"
   ]
  },
  {
   "cell_type": "code",
   "execution_count": 16,
   "id": "cb684712",
   "metadata": {},
   "outputs": [
    {
     "data": {
      "image/png": "[encoded data removed]",
      "text/plain": [
       "<Figure size 640x480 with 1 Axes>"
      ]
     },
     "metadata": {},
     "output_type": "display_data"
    }
   ],
   "source": [
    "%matplotlib inline \n",
    "import matplotlib.pyplot as plt \n",
    "\n",
    "C= np.random.randn(100000)\n",
    "plt.hist(C, bins=50)\n",
    "plt.show()"
   ]
  },
  {
   "cell_type": "code",
   "execution_count": 17,
   "id": "bbf7ea1d",
   "metadata": {},
   "outputs": [
    {
     "data": {
      "text/plain": [
       "array([[ 0.,  2.,  4.,  6.,  8.],\n",
       "       [ 1.,  3.,  5.,  7.,  9.],\n",
       "       [ 2.,  4.,  6.,  8., 10.]])"
      ]
     },
     "execution_count": 17,
     "metadata": {},
     "output_type": "execute_result"
    }
   ],
   "source": [
    "# Inicializar un array utilizando un a función personalizada \n",
    "def func(X, Y):\n",
    "    return X + 2 * Y\n",
    "np.fromfunction(func, (3, 5))\n"
   ]
  },
  {
   "cell_type": "markdown",
   "id": "1b12e04c",
   "metadata": {},
   "source": [
    "## Acceso a los elkementos de un array"
   ]
  },
  {
   "cell_type": "markdown",
   "id": "8bfbb14e",
   "metadata": {},
   "source": [
    "#### Array Udimencional"
   ]
  },
  {
   "cell_type": "code",
   "execution_count": 18,
   "id": "cc04ed46",
   "metadata": {},
   "outputs": [
    {
     "name": "stdout",
     "output_type": "stream",
     "text": [
      "Shape: (6,)\n",
      "array_uni: [ 1  3  5  7  9 11]\n"
     ]
    }
   ],
   "source": [
    "import numpy as np   # necesitas importar numpy\n",
    "\n",
    "array_uni = np.array([1, 3, 5, 7, 9, 11])  # ✅ faltaba la coma entre 3 y 5\n",
    "\n",
    "print(\"Shape:\", array_uni.shape)\n",
    "print(\"array_uni:\", array_uni)"
   ]
  },
  {
   "cell_type": "code",
   "execution_count": 19,
   "id": "6ff11247",
   "metadata": {},
   "outputs": [
    {
     "data": {
      "text/plain": [
       "np.int64(9)"
      ]
     },
     "execution_count": 19,
     "metadata": {},
     "output_type": "execute_result"
    }
   ],
   "source": [
    "# Acceder al equipo al quinto elemento\n",
    "array_uni[4]"
   ]
  },
  {
   "cell_type": "code",
   "execution_count": 20,
   "id": "e417c175",
   "metadata": {},
   "outputs": [
    {
     "data": {
      "text/plain": [
       "array([5, 7])"
      ]
     },
     "execution_count": 20,
     "metadata": {},
     "output_type": "execute_result"
    }
   ],
   "source": [
    "array_uni[2:4]"
   ]
  },
  {
   "cell_type": "code",
   "execution_count": 21,
   "id": "f22d82c9",
   "metadata": {},
   "outputs": [
    {
     "data": {
      "text/plain": [
       "array([ 1,  7, 11])"
      ]
     },
     "execution_count": 21,
     "metadata": {},
     "output_type": "execute_result"
    }
   ],
   "source": [
    "# Acceder al elemento 0, 3, y 5 del array\n",
    "array_uni[[0, 3 , 5]]"
   ]
  },
  {
   "cell_type": "markdown",
   "id": "25c69834",
   "metadata": {},
   "source": [
    "## Array Multidimencional"
   ]
  },
  {
   "cell_type": "markdown",
   "id": "73f1bbf5",
   "metadata": {},
   "source": [
    "# Crear un array Multidimencional\n"
   ]
  },
  {
   "cell_type": "code",
   "execution_count": 22,
   "id": "adfa0d79",
   "metadata": {},
   "outputs": [
    {
     "name": "stdout",
     "output_type": "stream",
     "text": [
      "Shape:  (2, 4)\n",
      "array_multi:\n",
      " [[1 2 3 4]\n",
      " [5 6 7 8]]\n"
     ]
    }
   ],
   "source": [
    "# Crear un array Multidimencional\n",
    "array_multi= np.array([[1,2,3,4],[5,6,7,8]])\n",
    "print(\"Shape: \",array_multi.shape)\n",
    "print(\"array_multi:\\n\",array_multi)"
   ]
  },
  {
   "cell_type": "code",
   "execution_count": 23,
   "id": "af0e63fb",
   "metadata": {},
   "outputs": [
    {
     "data": {
      "text/plain": [
       "np.int64(4)"
      ]
     },
     "execution_count": 23,
     "metadata": {},
     "output_type": "execute_result"
    }
   ],
   "source": [
    "array_multi[0, 3]"
   ]
  },
  {
   "cell_type": "code",
   "execution_count": 24,
   "id": "c5447645",
   "metadata": {},
   "outputs": [
    {
     "data": {
      "text/plain": [
       "array([], dtype=int64)"
      ]
     },
     "execution_count": 24,
     "metadata": {},
     "output_type": "execute_result"
    }
   ],
   "source": [
    "# Acceder al tercer elemento de la primeras dos filas del array \n",
    "array_multi[ 1,:0]"
   ]
  },
  {
   "cell_type": "markdown",
   "id": "31071f0d",
   "metadata": {},
   "source": []
  },
  {
   "cell_type": "markdown",
   "id": "9ca472e2",
   "metadata": {},
   "source": [
    "## Modificar un Array ##"
   ]
  },
  {
   "cell_type": "code",
   "execution_count": 25,
   "id": "d00d92be",
   "metadata": {},
   "outputs": [
    {
     "name": "stdout",
     "output_type": "stream",
     "text": [
      "Shape: (28,)\n",
      "array1:\n",
      " [ 0  1  2  3  4  5  6  7  8  9 10 11 12 13 14 15 16 17 18 19 20 21 22 23\n",
      " 24 25 26 27]\n"
     ]
    }
   ],
   "source": [
    "array1 = np.arange(28)\n",
    "print(\"Shape:\",array1.shape)\n",
    "print(\"array1:\\n\",array1)"
   ]
  },
  {
   "cell_type": "code",
   "execution_count": 26,
   "id": "f132b2e2",
   "metadata": {},
   "outputs": [
    {
     "name": "stdout",
     "output_type": "stream",
     "text": [
      "Shape:  (7, 4)\n",
      "array1:\n",
      " [[ 0  1  2  3]\n",
      " [ 4  5  6  7]\n",
      " [ 8  9 10 11]\n",
      " [12 13 14 15]\n",
      " [16 17 18 19]\n",
      " [20 21 22 23]\n",
      " [24 25 26 27]]\n"
     ]
    }
   ],
   "source": [
    "# # Cambiar las dimenciones del array y sus longitudes \n",
    "array1.shape=(7,4)\n",
    "print(\"Shape: \",array1.shape)\n",
    "print(\"array1:\\n\",array1)"
   ]
  },
  {
   "cell_type": "code",
   "execution_count": 27,
   "id": "841828b8",
   "metadata": {},
   "outputs": [
    {
     "name": "stdout",
     "output_type": "stream",
     "text": [
      "Shape:  (4, 7)\n",
      "array2:\n",
      " [[ 0  1  2  3  4  5  6]\n",
      " [ 7  8  9 10 11 12 13]\n",
      " [14 15 16 17 18 19 20]\n",
      " [21 22 23 24 25 26 27]]\n",
      "array1:\n",
      " [[ 0  1  2  3]\n",
      " [ 4  5  6  7]\n",
      " [ 8  9 10 11]\n",
      " [12 13 14 15]\n",
      " [16 17 18 19]\n",
      " [20 21 22 23]\n",
      " [24 25 26 27]]\n"
     ]
    }
   ],
   "source": [
    "# El ejemplo anterior  de devuelve un nuevo array que apunta a los mismos datos \n",
    "# NOTA las modificaciones de un array  modifican el otro array \n",
    "\n",
    "array2 = array1.reshape (4 ,7)\n",
    "print(\"Shape: \",array2.shape)\n",
    "print(\"array2:\\n\",array2)\n",
    "print(\"array1:\\n\",array1)"
   ]
  },
  {
   "cell_type": "code",
   "execution_count": 28,
   "id": "b03f8efc",
   "metadata": {},
   "outputs": [
    {
     "name": "stdout",
     "output_type": "stream",
     "text": [
      "array1:\n",
      " [[ 0  1  2 20]\n",
      " [ 4  5  6  7]\n",
      " [ 8  9 10 11]\n",
      " [12 13 14 15]\n",
      " [16 17 18 19]\n",
      " [20 21 22 23]\n",
      " [24 25 26 27]]\n",
      "array2:\n",
      " [[ 0  1  2 20  4  5  6]\n",
      " [ 7  8  9 10 11 12 13]\n",
      " [14 15 16 17 18 19 20]\n",
      " [21 22 23 24 25 26 27]]\n"
     ]
    }
   ],
   "source": [
    "# Modificar el array revuelto \n",
    "array2[0 , 3]=20\n",
    "print(\"array1:\\n\",array1)\n",
    "print(\"array2:\\n\",array2)"
   ]
  },
  {
   "cell_type": "code",
   "execution_count": 29,
   "id": "d68d8a41",
   "metadata": {},
   "outputs": [
    {
     "name": "stdout",
     "output_type": "stream",
     "text": [
      "array: [ 0  1  2 20  4  5  6  7  8  9 10 11 12 13 14 15 16 17 18 19 20 21 22 23\n",
      " 24 25 26 27]\n"
     ]
    }
   ],
   "source": [
    "# Regresar al array de vuelvo un nuevo array de una sola dimencion \n",
    "# el \n",
    "print(\"array:\", array1.ravel())"
   ]
  },
  {
   "cell_type": "markdown",
   "id": "70381d88",
   "metadata": {},
   "source": [
    "### Operacion Aritmetica con Arrays"
   ]
  },
  {
   "cell_type": "markdown",
   "id": "8260742f",
   "metadata": {},
   "source": [
    "### Broadscasting\n",
    "si se se aplican operaciones aritmeticas sobre arrays que no tengan la misma forma  **shape** Numpy aplicaa una propiedad que se denomina Broadcasting"
   ]
  },
  {
   "cell_type": "markdown",
   "id": "62b31960",
   "metadata": {},
   "source": []
  },
  {
   "cell_type": "code",
   "execution_count": null,
   "id": "ad3bcc49",
   "metadata": {},
   "outputs": [],
   "source": []
  },
  {
   "cell_type": "code",
   "execution_count": 30,
   "id": "0c13a7b6",
   "metadata": {},
   "outputs": [],
   "source": [
    "import numpy as np"
   ]
  },
  {
   "cell_type": "markdown",
   "id": "2031e838",
   "metadata": {},
   "source": []
  },
  {
   "cell_type": "code",
   "execution_count": 31,
   "id": "96cf5596",
   "metadata": {},
   "outputs": [
    {
     "name": "stdout",
     "output_type": "stream",
     "text": [
      "Array 1: [ 1  3  5  7  9 11 13 15 17 19]\n"
     ]
    }
   ],
   "source": [
    "# Crear un arary unidimensional\n",
    "array1= np.arange(1, 20, 2)\n",
    "print(\"Array 1:\",array1)"
   ]
  },
  {
   "cell_type": "code",
   "execution_count": 32,
   "id": "df4ea127",
   "metadata": {},
   "outputs": [
    {
     "data": {
      "text/plain": [
       "np.float64(10.0)"
      ]
     },
     "execution_count": 32,
     "metadata": {},
     "output_type": "execute_result"
    }
   ],
   "source": [
    "# CAlcular la media de los elementos del array\n",
    "\n",
    "array1.mean()"
   ]
  },
  {
   "cell_type": "code",
   "execution_count": 33,
   "id": "e1e420ed",
   "metadata": {},
   "outputs": [
    {
     "data": {
      "text/plain": [
       "np.int64(100)"
      ]
     },
     "execution_count": 33,
     "metadata": {},
     "output_type": "execute_result"
    }
   ],
   "source": [
    "# suma de los ellementos del array\n",
    "array1.sum()"
   ]
  },
  {
   "cell_type": "markdown",
   "id": "0fa5dbbc",
   "metadata": {},
   "source": [
    "Funiciones univercionales proporcionadas por Numpy ;**ufunc**"
   ]
  },
  {
   "cell_type": "code",
   "execution_count": 34,
   "id": "ff1e81b3",
   "metadata": {},
   "outputs": [
    {
     "data": {
      "text/plain": [
       "array([  1,   9,  25,  49,  81, 121, 169, 225, 289, 361])"
      ]
     },
     "execution_count": 34,
     "metadata": {},
     "output_type": "execute_result"
    }
   ],
   "source": [
    "\n",
    "np.square(array1)"
   ]
  },
  {
   "cell_type": "code",
   "execution_count": 35,
   "id": "83b70a1e",
   "metadata": {},
   "outputs": [
    {
     "data": {
      "text/plain": [
       "array([1.        , 1.73205081, 2.23606798, 2.64575131, 3.        ,\n",
       "       3.31662479, 3.60555128, 3.87298335, 4.12310563, 4.35889894])"
      ]
     },
     "execution_count": 35,
     "metadata": {},
     "output_type": "execute_result"
    }
   ],
   "source": [
    "# Raiz cuadrada de los elementos del array\n",
    "np.sqrt(array1)"
   ]
  },
  {
   "cell_type": "code",
   "execution_count": 36,
   "id": "363fc9a5",
   "metadata": {},
   "outputs": [
    {
     "data": {
      "text/plain": [
       "array([2.71828183e+00, 2.00855369e+01, 1.48413159e+02, 1.09663316e+03,\n",
       "       8.10308393e+03, 5.98741417e+04, 4.42413392e+05, 3.26901737e+06,\n",
       "       2.41549528e+07, 1.78482301e+08])"
      ]
     },
     "execution_count": 36,
     "metadata": {},
     "output_type": "execute_result"
    }
   ],
   "source": [
    "# RExponencial de los elements del array\n",
    "np.exp(array1)"
   ]
  },
  {
   "cell_type": "code",
   "execution_count": 37,
   "id": "f2d34375",
   "metadata": {},
   "outputs": [
    {
     "data": {
      "text/plain": [
       "array([0.        , 1.09861229, 1.60943791, 1.94591015, 2.19722458,\n",
       "       2.39789527, 2.56494936, 2.7080502 , 2.83321334, 2.94443898])"
      ]
     },
     "execution_count": 37,
     "metadata": {},
     "output_type": "execute_result"
    }
   ],
   "source": [
    "# Logaritmo natural de los ellementos delm array\n",
    "np.log(array1)"
   ]
  },
  {
   "cell_type": "code",
   "execution_count": null,
   "id": "f8ba57ae",
   "metadata": {},
   "outputs": [],
   "source": []
  }
 ],
 "metadata": {
  "kernelspec": {
   "display_name": "base",
   "language": "python",
   "name": "python3"
  },
  "language_info": {
   "codemirror_mode": {
    "name": "ipython",
    "version": 3
   },
   "file_extension": ".py",
   "mimetype": "text/x-python",
   "name": "python",
   "nbconvert_exporter": "python",
   "pygments_lexer": "ipython3",
   "version": "3.13.5"
  }
 },
 "nbformat": 4,
 "nbformat_minor": 5
}
