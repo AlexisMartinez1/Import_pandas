{
 "cells": [
  {
   "cell_type": "markdown",
   "id": "83f413f3",
   "metadata": {},
   "source": [
    "# Regres+on Logistica: deteccion de SPAM\n",
    "\n",
    "En este ejercicio se muestran los fundamentos de la regresión lógistica \n",
    "planteando uno de los primerosproblemas que fueron solucionados \n",
    "mediante el uso de técnicas de Machine Learning: Detección de SPAM.\n",
    "\n",
    "## Enunciado del ejercicio \n",
    "\n",
    "se propone la construccion de un sistema de aprendizaje automatico capaz\n",
    "de predecir si un correo determinado corresponde a un correo SPAM o no,\n",
    "para esto , se utlizara el siguente DataSet.\n",
    "[DataSet](https://www.Kaggle.com/datasets/imdeepmind/preprocessed-trec-2007-public-corpus-dataset)\n",
    "\n",
    "the corpus trec07 contains 75,419 messages:\n",
    "\n",
    "25,220 Ham \n",
    "50,199SPAM\n",
    "\n",
    "these messages contitute all the messages delivered to a particular server between thase dates:\n",
    "sun, 8 apr 2007 13:7:21 -0400 Fri ,6 jul 2007 07:04:53 -0400\n"
   ]
  },
  {
   "cell_type": "markdown",
   "id": "98719239",
   "metadata": {},
   "source": [
    "###1.- Fnciones complementarias\n",
    "\n",
    "En este caso practico relacionado con la deteccion de e"
   ]
  },
  {
   "cell_type": "code",
   "execution_count": 3,
   "id": "812c4e4f",
   "metadata": {},
   "outputs": [],
   "source": [
    "# Esta clase facilita el preprocesamiento de correos \n",
    "# electrónicos que poseen codigo HTML\n",
    "from html.parser import HTMLParser\n",
    "\n",
    "class MLStripper(HTMLParser):\n",
    "    def __init__(self):\n",
    "        self.reset()\n",
    "        self.strict = False\n",
    "        self.convert_charrefs = True\n",
    "        self.fed = []\n",
    "\n",
    "    def handle_data(self, d):\n",
    "        self.fed.append(d)\n",
    "\n",
    "    def get_data(self):\n",
    "        return ''.join(self.fed)"
   ]
  },
  {
   "cell_type": "code",
   "execution_count": 4,
   "id": "794423df",
   "metadata": {},
   "outputs": [],
   "source": [
    "# Esta función se encarga de eliminar los tags HTML que se encuentren en el texto del correo electrónico\n",
    "def strip_tags(html):\n",
    "    s = MLStripper()\n",
    "    s.feed(html)\n",
    "    return s.get_data()"
   ]
  },
  {
   "cell_type": "code",
   "execution_count": 5,
   "id": "a04abc88",
   "metadata": {},
   "outputs": [
    {
     "data": {
      "text/plain": [
       "'Phrack world News'"
      ]
     },
     "execution_count": 5,
     "metadata": {},
     "output_type": "execute_result"
    }
   ],
   "source": [
    "# Ejemplo de eliminación de los \n",
    "t = '<tr><td aling=\"left><a hrefd=\"../../issues/51/16.html#article\">Phrack world News</a><td>'\n",
    "strip_tags(t)"
   ]
  },
  {
   "cell_type": "markdown",
   "id": "49a95a38",
   "metadata": {},
   "source": [
    "Ademas de eliminar los posibles tags HTML que se encuentren el el coreo electronico deben realizarse otras acciones de procedimiento para ecitar que los mensajes contegan ruido inecesario entre ellas se encuentra la eliminación de los signos de puntuación , eliminación de posibles campos de correo electronico que nos son relevantes o eliminación de afijos de una palabra manteniendo unicamente la raiz de la misma (Stemming). La clase que se muestra a continuaón reliza estas transformaciones. "
   ]
  },
  {
   "cell_type": "code",
   "execution_count": 6,
   "id": "d66eac39",
   "metadata": {},
   "outputs": [],
   "source": [
    "import email\n",
    "import string\n",
    "import nltk"
   ]
  },
  {
   "cell_type": "code",
   "execution_count": 7,
   "id": "3e19a065",
   "metadata": {},
   "outputs": [],
   "source": [
    "class Parser:\n",
    "    def __init__(self):\n",
    "        self.stemmer = nltk.PorterStemmer()\n",
    "        self.stopwords = set(nltk.corpus.stopwords.word('english'))\n",
    "        self.punctuation =list(string.punctuation)\n",
    "        \n",
    "        \n",
    "        \n",
    "    def parse(self, emmail_phat):\n",
    "        \"\"\"Parse en email.\"\"\"\n",
    "        with open (email.path, errors='ignore') as e:\n",
    "            msg =email.message_from_binary_file(e)\n",
    "        return None if not msg else self.get_email_content(msg)\n",
    "    \n",
    "    \n",
    "    def get_email_content(self, msg):\n",
    "        \"\"\"Extract the email content\"\"\"\n",
    "        subject =self.tokenize(msg['Subject']) if msg ['Subject']else[]\n",
    "        body = self.get_email_body(msg.get_paylod(),\n",
    "                                   msg.get_content_type())\n",
    "        content_type = msg.get_content_type()\n",
    "        \n",
    "        return {\"subject\":subject,\n",
    "                \"body\": body,\n",
    "                \"content_type\":content_type}\n",
    "        \n",
    "        def get_email_body(self, payload, content_type):\n",
    "            \"\"\"Extract the body of the email\"\"\"\n",
    "            body = []\n",
    "            if type(payload) is str and content_type== 'text/plain':\n",
    "                return self.tokenize(payload)\n",
    "            elif type(payload)is str and content_type == 'text/html':\n",
    "                return self.tokenize(strip_tags(payload))\n",
    "            elif type (payload) is list:\n",
    "                for p in payload:\n",
    "                    body += self.get_email_body(p.get_payload(),\n",
    "                                                p.get_content_type())\n",
    "            return body\n",
    "        \n",
    "        def tokenize(self, text):\n",
    "            \"\"\"Transform a text string in tokens. perform two main actions,\n",
    "            clean the punctuation symbols  and do stemming of the text.\"\"\"\n",
    "            for c in self.punctuation:\n",
    "                text = text.remplace(c,\"\")\n",
    "            text = text.remplace (\"\\t\",\" \")\n",
    "            text = text.remplace (\"\\n\",\" \")\n",
    "            tokens = list(filter(None, text.split(\"\")))\n",
    "            \n",
    "            return [self.stemmer.stm(w)for w in tokens if w not in self .stopwoerds]\n",
    "            \n",
    "    \n",
    "    \n",
    "    \n",
    "        \n",
    "        \n",
    "        "
   ]
  },
  {
   "cell_type": "markdown",
   "id": "f98e8936",
   "metadata": {},
   "source": [
    "Lectura de un e-mail en formato Raw"
   ]
  },
  {
   "cell_type": "code",
   "execution_count": 8,
   "id": "f5d52f99",
   "metadata": {},
   "outputs": [
    {
     "name": "stdout",
     "output_type": "stream",
     "text": [
      "From RickyAmes@aol.com  Sun Apr  8 13:07:32 2007\n",
      "Return-Path: <RickyAmes@aol.com>\n",
      "Received: from 129.97.78.23 ([211.202.101.74])\n",
      "\tby speedy.uwaterloo.ca (8.12.8/8.12.5) with SMTP id l38H7G0I003017;\n",
      "\tSun, 8 Apr 2007 13:07:21 -0400\n",
      "Received: from 0.144.152.6 by 211.202.101.74; Sun, 08 Apr 2007 19:04:48 +0100\n",
      "Message-ID: <WYADCKPDFWWTWTXNFVUE@yahoo.com>\n",
      "From: \"Tomas Jacobs\" <RickyAmes@aol.com>\n",
      "Reply-To: \"Tomas Jacobs\" <RickyAmes@aol.com>\n",
      "To: the00@speedy.uwaterloo.ca\n",
      "Subject: Generic Cialis, branded quality@ \n",
      "Date: Sun, 08 Apr 2007 21:00:48 +0300\n",
      "X-Mailer: Microsoft Outlook Express 6.00.2600.0000\n",
      "MIME-Version: 1.0\n",
      "Content-Type: multipart/alternative;\n",
      "\tboundary=\"--8896484051606557286\"\n",
      "X-Priority: 3\n",
      "X-MSMail-Priority: Normal\n",
      "Status: RO\n",
      "Content-Length: 988\n",
      "Lines: 24\n",
      "\n",
      "----8896484051606557286\n",
      "Content-Type: text/html;\n",
      "Content-Transfer-Encoding: 7Bit\n",
      "\n",
      "<html>\n",
      "<body bgcolor=\"#ffffff\">\n",
      "<div style=\"border-color: #00FFFF; border-right-width: 0px; border-bottom-width: 0px; margin-bottom: 0px;\" align=\"center\">\n",
      "<table style=\"border: 1px; border-style: solid; border-color:#000000;\" cellpadding=\"5\" cellspacing=\"0\" bgcolor=\"#CCFFAA\">\n",
      "<tr>\n",
      "<td style=\"border: 0px; border-bottom: 1px; border-style: solid; border-color:#000000;\">\n",
      "<center>\n",
      "Do you feel the pressure to perform and not rising to the occasion??<br>\n",
      "</center>\n",
      "</td></tr><tr>\n",
      "<td bgcolor=#FFFF33 style=\"border: 0px; border-bottom: 1px; border-style: solid; border-color:#000000;\">\n",
      "<center>\n",
      "\n",
      "<b><a href='http://excoriationtuh.com/?lzmfnrdkleks'>Try <span>V</span><span>ia<span></span>gr<span>a</span>.....</a></b></center>\n",
      "</td></tr><td><center>your anxiety will be a thing of the past and you will<br>\n",
      "be back to your old self.\n",
      "</center></td></tr></table></div></body></html>\n",
      "\n",
      "\n",
      "----8896484051606557286--\n",
      "\n",
      "\n"
     ]
    }
   ],
   "source": [
    "inmail = open(\"datasets/trec07p/data/inmail.1\").read()\n",
    "print(inmail)"
   ]
  },
  {
   "cell_type": "markdown",
   "id": "185e22dd",
   "metadata": {},
   "source": []
  }
 ],
 "metadata": {
  "kernelspec": {
   "display_name": "base",
   "language": "python",
   "name": "python3"
  },
  "language_info": {
   "codemirror_mode": {
    "name": "ipython",
    "version": 3
   },
   "file_extension": ".py",
   "mimetype": "text/x-python",
   "name": "python",
   "nbconvert_exporter": "python",
   "pygments_lexer": "ipython3",
   "version": "3.13.5"
  }
 },
 "nbformat": 4,
 "nbformat_minor": 5
}
